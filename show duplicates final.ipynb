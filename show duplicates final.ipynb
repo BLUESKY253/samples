{
 "cells": [
  {
   "cell_type": "code",
   "execution_count": 2,
   "id": "44313666-562b-4bed-9124-14d6bb50aa52",
   "metadata": {},
   "outputs": [],
   "source": [
    "import pandas as pd"
   ]
  },
  {
   "cell_type": "code",
   "execution_count": 22,
   "id": "91bc1036-4eb0-4c6d-b51c-16e5748497dc",
   "metadata": {},
   "outputs": [
    {
     "name": "stdout",
     "output_type": "stream",
     "text": [
      "Dataframe\n",
      "      Name  Age           City\n",
      "0    Alice   25       New York\n",
      "1      Bob   30    Los Angeles\n",
      "2    Alice   25       New York\n",
      "3  Charlie   35        Chicago\n",
      "4      Bob   30    Los Angeles\n",
      "5    David   40  San Francisco\n",
      "\n",
      "Duplicates\n",
      "    Name  Age         City\n",
      "2  Alice   25     New York\n",
      "4    Bob   30  Los Angeles\n"
     ]
    }
   ],
   "source": [
    "data = {\n",
    "    'Name': ['Alice', 'Bob', 'Alice', 'Charlie', 'Bob', 'David'],\n",
    "    'Age': [25, 30, 25, 35, 30, 40],\n",
    "    'City': ['New York', 'Los Angeles', 'New York', 'Chicago', 'Los Angeles', 'San Francisco']\n",
    "}\n",
    "\n",
    "df = pd.DataFrame(data)\n",
    "print(\"Dataframe\")\n",
    "print(df)\n",
    "\n",
    "duplicates = df[df.duplicated()]\n",
    "\n",
    "print(\"\\nDuplicates\")\n",
    "print(duplicates)"
   ]
  },
  {
   "cell_type": "code",
   "execution_count": null,
   "id": "99e24d82-a7ac-434b-b1e7-d72588201e69",
   "metadata": {},
   "outputs": [],
   "source": [
    "# ind = []\n",
    "\n",
    "# dup = df.duplicated()\n",
    "# print(dup) \n",
    "\n",
    "# o = -1\n",
    "# for i in dup:\n",
    "#     o+=1\n",
    "#     if i==True:\n",
    "#         ind.append(o)\n",
    "# print(ind) \n",
    "\n",
    "# for i in ind:\n",
    "#     dup1 = df[df['Index']==i]\n",
    "#     print(dup1)"
   ]
  },
  {
   "cell_type": "code",
   "execution_count": null,
   "id": "4c354b8b-1934-489f-adf1-bbd320797f94",
   "metadata": {},
   "outputs": [],
   "source": [
    "# dup_list = []\n",
    "# dup = df.duplicated()\n",
    "# print(dup)\n",
    "\n",
    "# for i in dup:\n",
    "#     dup_list.append(i)\n",
    "# print(dup_list)\n",
    "# print(type(dup_list[0]))\n",
    "# for i in dup_list:\n",
    "#     str(i)\n",
    "# print(type(dup_list[0]))\n",
    "# print(dup_list)"
   ]
  },
  {
   "cell_type": "code",
   "execution_count": 30,
   "id": "f1e448e6-a240-4928-8ff3-81b469fe00a7",
   "metadata": {},
   "outputs": [],
   "source": [
    "# dup_list = []\n",
    "# dup = df.duplicated()\n",
    "\n",
    "# for i in dup:\n",
    "#     dup_list.append(i)\n",
    "\n",
    "# for i in dup_list:\n",
    "#     str(i)\n"
   ]
  },
  {
   "cell_type": "code",
   "execution_count": null,
   "id": "3e1a3300-227c-41d2-ba35-e687ff61b84c",
   "metadata": {},
   "outputs": [],
   "source": [
    "# df['DUP'] = dup_list\n",
    "# print(df)\n",
    "# dup_show = df[df[\"DUP\"] == True]\n",
    "\n",
    "# print(dup_show)"
   ]
  },
  {
   "cell_type": "code",
   "execution_count": null,
   "id": "faf172b1-ade8-4c39-ad17-2f8af6f65948",
   "metadata": {},
   "outputs": [],
   "source": []
  }
 ],
 "metadata": {
  "kernelspec": {
   "display_name": "Python 3 (ipykernel)",
   "language": "python",
   "name": "python3"
  },
  "language_info": {
   "codemirror_mode": {
    "name": "ipython",
    "version": 3
   },
   "file_extension": ".py",
   "mimetype": "text/x-python",
   "name": "python",
   "nbconvert_exporter": "python",
   "pygments_lexer": "ipython3",
   "version": "3.13.3"
  }
 },
 "nbformat": 4,
 "nbformat_minor": 5
}
