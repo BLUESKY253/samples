{
 "cells": [
  {
   "cell_type": "code",
   "execution_count": 2,
   "id": "44313666-562b-4bed-9124-14d6bb50aa52",
   "metadata": {},
   "outputs": [],
   "source": [
    "import pandas as pd"
   ]
  },
  {
   "cell_type": "code",
   "execution_count": 18,
   "id": "91bc1036-4eb0-4c6d-b51c-16e5748497dc",
   "metadata": {},
   "outputs": [
    {
     "data": {
      "text/html": [
       "<div>\n",
       "<style scoped>\n",
       "    .dataframe tbody tr th:only-of-type {\n",
       "        vertical-align: middle;\n",
       "    }\n",
       "\n",
       "    .dataframe tbody tr th {\n",
       "        vertical-align: top;\n",
       "    }\n",
       "\n",
       "    .dataframe thead th {\n",
       "        text-align: right;\n",
       "    }\n",
       "</style>\n",
       "<table border=\"1\" class=\"dataframe\">\n",
       "  <thead>\n",
       "    <tr style=\"text-align: right;\">\n",
       "      <th></th>\n",
       "      <th>Name</th>\n",
       "      <th>Age</th>\n",
       "      <th>City</th>\n",
       "    </tr>\n",
       "  </thead>\n",
       "  <tbody>\n",
       "    <tr>\n",
       "      <th>0</th>\n",
       "      <td>Alice</td>\n",
       "      <td>25</td>\n",
       "      <td>New York</td>\n",
       "    </tr>\n",
       "    <tr>\n",
       "      <th>1</th>\n",
       "      <td>Bob</td>\n",
       "      <td>30</td>\n",
       "      <td>Los Angeles</td>\n",
       "    </tr>\n",
       "    <tr>\n",
       "      <th>2</th>\n",
       "      <td>Alice</td>\n",
       "      <td>25</td>\n",
       "      <td>New York</td>\n",
       "    </tr>\n",
       "    <tr>\n",
       "      <th>3</th>\n",
       "      <td>Charlie</td>\n",
       "      <td>35</td>\n",
       "      <td>Chicago</td>\n",
       "    </tr>\n",
       "    <tr>\n",
       "      <th>4</th>\n",
       "      <td>Bob</td>\n",
       "      <td>30</td>\n",
       "      <td>Los Angeles</td>\n",
       "    </tr>\n",
       "    <tr>\n",
       "      <th>5</th>\n",
       "      <td>David</td>\n",
       "      <td>40</td>\n",
       "      <td>San Francisco</td>\n",
       "    </tr>\n",
       "  </tbody>\n",
       "</table>\n",
       "</div>"
      ],
      "text/plain": [
       "      Name  Age           City\n",
       "0    Alice   25       New York\n",
       "1      Bob   30    Los Angeles\n",
       "2    Alice   25       New York\n",
       "3  Charlie   35        Chicago\n",
       "4      Bob   30    Los Angeles\n",
       "5    David   40  San Francisco"
      ]
     },
     "execution_count": 18,
     "metadata": {},
     "output_type": "execute_result"
    }
   ],
   "source": [
    "data = {\n",
    "    'Name': ['Alice', 'Bob', 'Alice', 'Charlie', 'Bob', 'David'],\n",
    "    'Age': [25, 30, 25, 35, 30, 40],\n",
    "    'City': ['New York', 'Los Angeles', 'New York', 'Chicago', 'Los Angeles', 'San Francisco']\n",
    "}\n",
    "\n",
    "df = pd.DataFrame(data)\n",
    "print(df)\n",
    "\n",
    "duplicates = df[df.duplicated()]\n",
    "\n",
    "print(duplicates)"
   ]
  },
  {
   "cell_type": "code",
   "execution_count": null,
   "id": "99e24d82-a7ac-434b-b1e7-d72588201e69",
   "metadata": {},
   "outputs": [],
   "source": [
    "ind = []\n",
    "\n",
    "dup = df.duplicated()\n",
    "print(dup) \n",
    "\n",
    "o = -1\n",
    "for i in dup:\n",
    "    o+=1\n",
    "    if i==True:\n",
    "        ind.append(o)\n",
    "print(ind) \n",
    "\n",
    "for i in ind:\n",
    "    dup1 = df[df['Index']==i]\n",
    "    print(dup1)"
   ]
  },
  {
   "cell_type": "code",
   "execution_count": 36,
   "id": "4c354b8b-1934-489f-adf1-bbd320797f94",
   "metadata": {},
   "outputs": [
    {
     "name": "stdout",
     "output_type": "stream",
     "text": [
      "0    False\n",
      "1    False\n",
      "2     True\n",
      "3    False\n",
      "4     True\n",
      "5    False\n",
      "dtype: bool\n",
      "[False, False, True, False, True, False]\n",
      "<class 'bool'>\n",
      "<class 'bool'>\n",
      "[False, False, True, False, True, False]\n"
     ]
    }
   ],
   "source": [
    "dup_list = []\n",
    "dup = df.duplicated()\n",
    "print(dup)\n",
    "\n",
    "for i in dup:\n",
    "    dup_list.append(i)\n",
    "print(dup_list)\n",
    "print(type(dup_list[0]))\n",
    "for i in dup_list:\n",
    "    str(i)\n",
    "print(type(dup_list[0]))\n",
    "print(dup_list)"
   ]
  },
  {
   "cell_type": "code",
   "execution_count": 30,
   "id": "f1e448e6-a240-4928-8ff3-81b469fe00a7",
   "metadata": {},
   "outputs": [],
   "source": [
    "dup_list = []\n",
    "dup = df.duplicated()\n",
    "\n",
    "for i in dup:\n",
    "    dup_list.append(i)\n",
    "\n",
    "for i in dup_list:\n",
    "    str(i)\n"
   ]
  },
  {
   "cell_type": "code",
   "execution_count": 27,
   "id": "3e1a3300-227c-41d2-ba35-e687ff61b84c",
   "metadata": {},
   "outputs": [
    {
     "name": "stdout",
     "output_type": "stream",
     "text": [
      "      Name  Age           City    DUP\n",
      "0    Alice   25       New York  False\n",
      "1      Bob   30    Los Angeles  False\n",
      "2    Alice   25       New York  False\n",
      "3  Charlie   35        Chicago  False\n",
      "4      Bob   30    Los Angeles  False\n",
      "5    David   40  San Francisco  False\n",
      "Empty DataFrame\n",
      "Columns: [Name, Age, City, DUP]\n",
      "Index: []\n"
     ]
    }
   ],
   "source": [
    "df['DUP'] = dup_list\n",
    "print(df)\n",
    "dup_show = df[df[\"DUP\"] == True]\n",
    "\n",
    "print(dup_show)"
   ]
  },
  {
   "cell_type": "code",
   "execution_count": null,
   "id": "faf172b1-ade8-4c39-ad17-2f8af6f65948",
   "metadata": {},
   "outputs": [],
   "source": []
  }
 ],
 "metadata": {
  "kernelspec": {
   "display_name": "Python 3 (ipykernel)",
   "language": "python",
   "name": "python3"
  },
  "language_info": {
   "codemirror_mode": {
    "name": "ipython",
    "version": 3
   },
   "file_extension": ".py",
   "mimetype": "text/x-python",
   "name": "python",
   "nbconvert_exporter": "python",
   "pygments_lexer": "ipython3",
   "version": "3.13.3"
  }
 },
 "nbformat": 4,
 "nbformat_minor": 5
}
