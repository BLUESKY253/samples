{
 "cells": [
  {
   "cell_type": "code",
   "execution_count": 5,
   "id": "af854f72-a626-4090-a848-5ad0a901d2fd",
   "metadata": {},
   "outputs": [],
   "source": [
    "import math\n",
    "import pandas as pd"
   ]
  },
  {
   "cell_type": "code",
   "execution_count": 49,
   "id": "9571a9b3-fb81-4f9b-8883-e3e4aaccf909",
   "metadata": {},
   "outputs": [
    {
     "name": "stdin",
     "output_type": "stream",
     "text": [
      "Write Location plus file name\n",
      "Example = C:\\Users\\PC\\Desktop\\employees.xls\n",
      " =  C:\\Users\\PC\\Desktop\\مواد مورد نیاز.xlsx\n",
      "Write slected column name :  تعداد\n",
      "What is your file type?\n",
      "1.excel 2.csv\n",
      " :  1\n"
     ]
    }
   ],
   "source": [
    "# location = \"C:\\\\Users\\\\PC\\\\Desktop\\\\employees.xls\"\n",
    "# ind = 'Salary'\n",
    "\n",
    "location = str(input(\"Write Location plus file name\\nExample = C:\\\\Users\\\\PC\\\\Desktop\\\\employees.xls\\n = \"))\n",
    "ind = str(input(\"Write slected column name : \"))\n",
    "file_type = str(input(\"What is your file type?\\n1.excel 2.csv\\n : \"))\n",
    "\n",
    "if file_type == \"1\":\n",
    "    mydata = pd.read_excel(f\"{location}\",usecols=[ind]).squeeze()\n",
    "    \n",
    "elif file_type == \"2\":\n",
    "    mydata = pd.read_csv(f\"{location}\",usecols=[ind]).squeeze()\n",
    "\n",
    "mylist = mydata.tolist()\n",
    "\n",
    "for i in mylist:\n",
    "    try:\n",
    "        int(i)\n",
    "    except:\n",
    "         mylist[mylist.index(i)] = 0"
   ]
  },
  {
   "cell_type": "code",
   "execution_count": 50,
   "id": "e64479ec-eafa-41b7-9426-291660fc1a16",
   "metadata": {},
   "outputs": [],
   "source": [
    "def get_std(x):\n",
    "\n",
    "    len_list = len(x)\n",
    "    \n",
    "    sum_list = sum(x)\n",
    "    \n",
    "    avg_list = sum_list/len_list\n",
    "    avg_list = int(avg_list)\n",
    "    \n",
    "    each_item = 0\n",
    "    \n",
    "    for i in x:\n",
    "        each_subtract = ( i - avg_list)\n",
    "        each_subtract = each_subtract**2\n",
    "        each_item += each_subtract\n",
    "    \n",
    "    \n",
    "    under_root = 1/len_list * each_item\n",
    "    \n",
    "    std = math.sqrt(under_root)\n",
    "    \n",
    "    print(f\"STD  = {std}\")"
   ]
  },
  {
   "cell_type": "code",
   "execution_count": 48,
   "id": "f8464516-f863-4d17-92b3-dc785712b7b6",
   "metadata": {},
   "outputs": [
    {
     "name": "stdout",
     "output_type": "stream",
     "text": [
      "STD  = 33138.305091188406\n"
     ]
    }
   ],
   "source": [
    "get_std(mylist)"
   ]
  },
  {
   "cell_type": "code",
   "execution_count": null,
   "id": "e15af457-44a8-4426-8c51-bb02f762b2b9",
   "metadata": {},
   "outputs": [],
   "source": []
  }
 ],
 "metadata": {
  "kernelspec": {
   "display_name": "Python 3 (ipykernel)",
   "language": "python",
   "name": "python3"
  },
  "language_info": {
   "codemirror_mode": {
    "name": "ipython",
    "version": 3
   },
   "file_extension": ".py",
   "mimetype": "text/x-python",
   "name": "python",
   "nbconvert_exporter": "python",
   "pygments_lexer": "ipython3",
   "version": "3.13.3"
  }
 },
 "nbformat": 4,
 "nbformat_minor": 5
}
